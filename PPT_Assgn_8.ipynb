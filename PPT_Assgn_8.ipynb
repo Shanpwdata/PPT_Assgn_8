{
 "cells": [
  {
   "cell_type": "markdown",
   "id": "874ba516-a3b8-4705-84ff-84fdb09156eb",
   "metadata": {},
   "source": [
    "\n",
    "💡 **Question 1**\n",
    "\n",
    "Given two strings s1 and s2, return *the lowest **ASCII** sum of deleted characters to make two strings equal*.\n",
    "\n",
    "**Example 1:**\n",
    "\n",
    "**Input:** s1 = \"sea\", s2 = \"eat\"\n",
    "\n",
    "**Output:** 231\n",
    "\n",
    "**Explanation:** Deleting \"s\" from \"sea\" adds the ASCII value of \"s\" (115) to the sum.\n",
    "\n",
    "Deleting \"t\" from \"eat\" adds 116 to the sum.\n",
    "\n",
    "At the end, both strings are equal, and 115 + 116 = 231 is the minimum sum possible to achieve this.\n"
   ]
  },
  {
   "cell_type": "code",
   "execution_count": 1,
   "id": "3a04d18a-080a-4d42-8ef1-e837bb1b091f",
   "metadata": {},
   "outputs": [],
   "source": [
    "###Ans_1.\n",
    "def deleted_sum(s1,s2):\n",
    "    n, m = len(s1), len(s2)\n",
    "    prev = [0] * (m+1)\n",
    "    cur = prev.copy()\n",
    "    for i in range(n):\n",
    "        for j in range(m):\n",
    "            if s1[i] == s2[j]: cur[j+1] = prev[j] + ord(s1[i])\n",
    "            else: cur[j+1] = max(cur[j], prev[j+1])\n",
    "        prev, cur = cur, prev\n",
    "    return sum(map(ord, s1+s2)) - 2 * prev[-1]"
   ]
  },
  {
   "cell_type": "code",
   "execution_count": 2,
   "id": "24544dd6-87bb-4878-afa8-21bf6f83d4ff",
   "metadata": {},
   "outputs": [
    {
     "data": {
      "text/plain": [
       "231"
      ]
     },
     "execution_count": 2,
     "metadata": {},
     "output_type": "execute_result"
    }
   ],
   "source": [
    "deleted_sum(\"sea\", \"eat\")"
   ]
  },
  {
   "cell_type": "markdown",
   "id": "dac58e63-5e4b-40b7-a61f-13a163a6958c",
   "metadata": {},
   "source": [
    "💡 **Question 2**\n",
    "\n",
    "Given a string s containing only three types of characters: '(', ')' and '*', return true *if* s *is **valid***.\n",
    "\n",
    "The following rules define a **valid** string:\n",
    "\n",
    "- Any left parenthesis '(' must have a corresponding right parenthesis ')'.\n",
    "- Any right parenthesis ')' must have a corresponding left parenthesis '('.\n",
    "- Left parenthesis '(' must go before the corresponding right parenthesis ')'.\n",
    "- '*' could be treated as a single right parenthesis ')' or a single left parenthesis '(' or an empty string \"\".\n",
    "\n",
    "**Example 1:**\n",
    "\n",
    "**Input:** s = \"()\"\n",
    "\n",
    "**Output:**\n",
    "\n",
    "true"
   ]
  },
  {
   "cell_type": "code",
   "execution_count": 3,
   "id": "8e0d154b-6085-401f-835c-540497c01a2d",
   "metadata": {},
   "outputs": [],
   "source": [
    "###Ams_2.\n",
    "def checkValidString(s):\n",
    "    st=[]\n",
    "    sr=[]\n",
    "    for i in range(len(s)):\n",
    "        if s[i]=='(':\n",
    "            st.append(i)\n",
    "        elif s[i]== '*':\n",
    "            sr.append(i)\n",
    "        else:\n",
    "            if st:\n",
    "                st.pop()\n",
    "            elif sr:\n",
    "                sr.pop()\n",
    "            else:\n",
    "                return False\n",
    "    while st:\n",
    "        if len(sr)==0:\n",
    "            return False\n",
    "        elif st[-1]< sr[-1]:\n",
    "            st.pop()\n",
    "            sr.pop()\n",
    "        else:\n",
    "            return False\n",
    "    return True"
   ]
  },
  {
   "cell_type": "code",
   "execution_count": 4,
   "id": "a4747738-d8f7-4b81-948d-6ed57768de1f",
   "metadata": {},
   "outputs": [
    {
     "data": {
      "text/plain": [
       "True"
      ]
     },
     "execution_count": 4,
     "metadata": {},
     "output_type": "execute_result"
    }
   ],
   "source": [
    "checkValidString(\"()\")"
   ]
  },
  {
   "cell_type": "markdown",
   "id": "fd0bb81a-96bf-4e2c-b82a-1dc37fb73e7b",
   "metadata": {},
   "source": [
    "💡 **Question 3**\n",
    "\n",
    "Given two strings word1 and word2, return *the minimum number of **steps** required to make* word1 *and* word2 *the same*.\n",
    "\n",
    "In one **step**, you can delete exactly one character in either string.\n",
    "\n",
    "**Example 1:**\n",
    "\n",
    "**Input:** word1 = \"sea\", word2 = \"eat\"\n",
    "\n",
    "**Output:** 2\n",
    "\n",
    "**Explanation:** You need one step to make \"sea\" to \"ea\" and another step to make \"eat\" to \"ea\"."
   ]
  },
  {
   "cell_type": "code",
   "execution_count": 5,
   "id": "1a924d74-3b2d-411b-ba8d-00112770e02e",
   "metadata": {},
   "outputs": [],
   "source": [
    "###Ans_3.\n",
    "def minDistance(word1, word2):\n",
    "    m=len(word1)\n",
    "    n=len(word2)\n",
    "    dp=[]\n",
    "    for i in range (m+1):\n",
    "        dp.append([0]*(n+1))\n",
    "    for i in range (m+1):\n",
    "        dp[i][0]=i\n",
    "    for i in range (n+1):\n",
    "        dp[0][i]=i\n",
    "    for i in range (1,m+1):\n",
    "        for j in range (1,n+1):\n",
    "            if word1[i-1]==word2[j-1]:\n",
    "                dp[i][j]=dp[i-1][j-1]\n",
    "            else:\n",
    "                dp[i][j]=min(dp[i][j-1],dp[i-1][j])+1\n",
    "    return dp[-1][-1]"
   ]
  },
  {
   "cell_type": "code",
   "execution_count": 6,
   "id": "f62d09b5-cd79-4988-949e-2553fabd9353",
   "metadata": {},
   "outputs": [
    {
     "data": {
      "text/plain": [
       "2"
      ]
     },
     "execution_count": 6,
     "metadata": {},
     "output_type": "execute_result"
    }
   ],
   "source": [
    "minDistance(\"sea\",\"eat\")"
   ]
  },
  {
   "cell_type": "markdown",
   "id": "8c6be6bf-2315-4c6b-ba3b-d90e39d15bc7",
   "metadata": {},
   "source": [
    "💡 **Question 4**\n",
    "\n",
    "You need to construct a binary tree from a string consisting of parenthesis and integers.\n",
    "\n",
    "The whole input represents a binary tree. It contains an integer followed by zero, one or two pairs of parenthesis. The integer represents the root's value and a pair of parenthesis contains a child binary tree with the same structure.\n",
    "You always start to construct the **left** child node of the parent first if it exists.\n",
    "\n",
    "**Input:** s = \"4(2(3)(1))(6(5))\"\n",
    "\n",
    "**Output:** [4,2,6,3,1,5]"
   ]
  },
  {
   "cell_type": "code",
   "execution_count": 7,
   "id": "ab6b459a-97cd-4b99-92bd-6e2be9d9c209",
   "metadata": {},
   "outputs": [],
   "source": [
    "###Ans_4.\n",
    "class TreeNode:\n",
    "    def __init__(self, val=0, left=None, right=None):\n",
    "        self.val = val\n",
    "        self.left = left\n",
    "        self.right = right\n",
    "\n",
    "def constructTree(s):\n",
    "    def getNumber():\n",
    "        nonlocal i\n",
    "        start = i\n",
    "        while i < len(s) and s[i].isdigit():\n",
    "            i += 1\n",
    "        return int(s[start:i])\n",
    "\n",
    "    def construct():\n",
    "        nonlocal i\n",
    "        if i >= len(s) or s[i] == ')':\n",
    "            return None\n",
    "\n",
    "        value = getNumber()\n",
    "        node = TreeNode(value)\n",
    "\n",
    "        if i < len(s) and s[i] == '(':\n",
    "            i += 1\n",
    "            node.left = construct()\n",
    "\n",
    "        if i < len(s) and s[i] == '(':\n",
    "            i += 1\n",
    "            node.right = construct()\n",
    "\n",
    "        if i < len(s) and s[i] == ')':\n",
    "            i += 1\n",
    "\n",
    "        return node\n",
    "\n",
    "    i = 0\n",
    "    return construct()\n",
    "\n",
    "def inorderTraversal(root):\n",
    "    if not root:\n",
    "        return []\n",
    "    return inorderTraversal(root.left) + [root.val] + inorderTraversal(root.right)\n",
    "\n"
   ]
  },
  {
   "cell_type": "code",
   "execution_count": 8,
   "id": "966c26a6-ed13-451f-bf5e-e0f9a5022ac6",
   "metadata": {},
   "outputs": [
    {
     "name": "stdout",
     "output_type": "stream",
     "text": [
      "[3, 2, 1, 4, 5, 6]\n"
     ]
    }
   ],
   "source": [
    "s = \"4(2(3)(1))(6(5))\"\n",
    "tree = constructTree(s)\n",
    "result = inorderTraversal(tree)\n",
    "print(result)"
   ]
  },
  {
   "cell_type": "markdown",
   "id": "7c8df182-fe7e-4bdf-b564-27f4f6b12902",
   "metadata": {},
   "source": [
    "💡 **Question 5**\n",
    "\n",
    "Given an array of characters chars, compress it using the following algorithm:\n",
    "\n",
    "Begin with an empty string s. For each group of **consecutive repeating characters** in chars:\n",
    "\n",
    "- If the group's length is 1, append the character to s.\n",
    "- Otherwise, append the character followed by the group's length.\n",
    "\n",
    "The compressed string s **should not be returned separately**, but instead, be stored **in the input character array chars**. Note that group lengths that are 10 or longer will be split into multiple characters in chars.\n",
    "\n",
    "After you are done **modifying the input array,** return *the new length of the array*.\n",
    "\n",
    "You must write an algorithm that uses only constant extra space.\n",
    "\n",
    "**Example 1:**\n",
    "\n",
    "**Input:** chars = [\"a\",\"a\",\"b\",\"b\",\"c\",\"c\",\"c\"]\n",
    "\n",
    "**Output:** Return 6, and the first 6 characters of the input array should be: [\"a\",\"2\",\"b\",\"2\",\"c\",\"3\"]\n",
    "\n",
    "**Explanation:**\n",
    "\n",
    "The groups are \"aa\", \"bb\", and \"ccc\". This compresses to \"a2b2c3\".\n",
    "\n",
    "</aside>"
   ]
  },
  {
   "cell_type": "code",
   "execution_count": 9,
   "id": "39462351-e167-4a16-ac62-4528f1ac4c02",
   "metadata": {},
   "outputs": [],
   "source": [
    "###Ans_5.\n",
    "def compress(chars):\n",
    "    n = len(chars)\n",
    "    write = 0\n",
    "    count = 1\n",
    "\n",
    "    for i in range(1, n):\n",
    "        if chars[i] == chars[i - 1]:\n",
    "            count += 1\n",
    "        else:\n",
    "            chars[write] = chars[i - 1]\n",
    "            write += 1\n",
    "            if count > 1:\n",
    "                count_str = str(count)\n",
    "                for digit in count_str:\n",
    "                    chars[write] = digit\n",
    "                    write += 1\n",
    "            count = 1\n",
    "\n",
    "    chars[write] = chars[n - 1]\n",
    "    write += 1\n",
    "    if count > 1:\n",
    "        count_str = str(count)\n",
    "        for digit in count_str:\n",
    "            chars[write] = digit\n",
    "            write += 1\n",
    "\n",
    "    return write"
   ]
  },
  {
   "cell_type": "code",
   "execution_count": 10,
   "id": "72776123-43a0-4fe6-b2f6-04abb0c3a99e",
   "metadata": {},
   "outputs": [
    {
     "name": "stdout",
     "output_type": "stream",
     "text": [
      "6\n",
      "['a', '2', 'b', '2', 'c', '3']\n"
     ]
    }
   ],
   "source": [
    "chars = [\"a\", \"a\", \"b\", \"b\", \"c\", \"c\", \"c\"]\n",
    "length = compress(chars)\n",
    "print(length)\n",
    "print(chars[:length])"
   ]
  },
  {
   "cell_type": "markdown",
   "id": "fd9f1d35-a1a3-4500-b4ac-e6f97627e0e1",
   "metadata": {},
   "source": [
    "<aside>\n",
    "💡 **Question 6**\n",
    "\n",
    "Given two strings s and p, return *an array of all the start indices of* p*'s anagrams in* s. You may return the answer in **any order**.\n",
    "\n",
    "An **Anagram** is a word or phrase formed by rearranging the letters of a different word or phrase, typically using all the original letters exactly once.\n",
    "\n",
    "**Example 1:**\n",
    "\n",
    "**Input:** s = \"cbaebabacd\", p = \"abc\"\n",
    "\n",
    "**Output:** [0,6]\n",
    "\n",
    "**Explanation:**\n",
    "\n",
    "The substring with start index = 0 is \"cba\", which is an anagram of \"abc\".\n",
    "\n",
    "The substring with start index = 6 is \"bac\", which is an anagram of \"abc\".\n",
    "\n",
    "</aside>"
   ]
  },
  {
   "cell_type": "code",
   "execution_count": 11,
   "id": "8d6282df-f19d-42ce-ba1a-9788adf0a4e8",
   "metadata": {},
   "outputs": [],
   "source": [
    "###Ans_6.\n",
    "def anagrams(s,p):\n",
    "    res = []\n",
    "    p = sorted(p)\n",
    "    for i in range(len(s) - len(p) + 1):\n",
    "        if p == sorted(s[i:i+len(p)]):\n",
    "            res.append(i)\n",
    "    return res"
   ]
  },
  {
   "cell_type": "code",
   "execution_count": 12,
   "id": "ee0ea621-592f-4c55-b73d-8f950883c7de",
   "metadata": {},
   "outputs": [
    {
     "data": {
      "text/plain": [
       "[0, 6]"
      ]
     },
     "execution_count": 12,
     "metadata": {},
     "output_type": "execute_result"
    }
   ],
   "source": [
    "anagrams(\"cbaebabacd\",\"abc\")"
   ]
  },
  {
   "cell_type": "markdown",
   "id": "d5de1b4d-4949-44d0-82f7-819380ee4c41",
   "metadata": {},
   "source": [
    "<aside>\n",
    "💡 **Question 7**\n",
    "\n",
    "Given an encoded string, return its decoded string.\n",
    "\n",
    "The encoding rule is: k[encoded_string], where the encoded_string inside the square brackets is being repeated exactly k times. Note that k is guaranteed to be a positive integer.\n",
    "\n",
    "You may assume that the input string is always valid; there are no extra white spaces, square brackets are well-formed, etc. Furthermore, you may assume that the original data does not contain any digits and that digits are only for those repeat numbers, k. For example, there will not be input like 3a or 2[4].\n",
    "\n",
    "The test cases are generated so that the length of the output will never exceed 105.\n",
    "\n",
    "**Example 1:**\n",
    "\n",
    "**Input:** s = \"3[a]2[bc]\"\n",
    "\n",
    "**Output:** \"aaabcbc\"\n",
    "\n",
    "</aside>"
   ]
  },
  {
   "cell_type": "code",
   "execution_count": 13,
   "id": "ea0ca6c2-f266-41c9-851f-5368e8bab36f",
   "metadata": {},
   "outputs": [],
   "source": [
    "###Ans_7.\n",
    "def decode_string(s):\n",
    "    st = []\n",
    "    num = 0\n",
    "    res = ''\n",
    "\n",
    "    for ch in s:\n",
    "        if ch.isnumeric():\n",
    "            num = num * 10 + int(ch)\n",
    "        elif ch == '[':\n",
    "            st.append(res)\n",
    "            st.append(num)\n",
    "            res = ''\n",
    "            num = 0\n",
    "        elif ch == ']':\n",
    "            cnt = st.pop()\n",
    "            prev = st.pop()\n",
    "            res = prev + cnt * res\n",
    "        else:\n",
    "            res += ch\n",
    "    return res"
   ]
  },
  {
   "cell_type": "code",
   "execution_count": 14,
   "id": "6a9add1f-6abb-400a-a0c0-b27226099f9e",
   "metadata": {},
   "outputs": [
    {
     "data": {
      "text/plain": [
       "'aaabcbc'"
      ]
     },
     "execution_count": 14,
     "metadata": {},
     "output_type": "execute_result"
    }
   ],
   "source": [
    "decode_string(\"3[a]2[bc]\")"
   ]
  },
  {
   "cell_type": "markdown",
   "id": "956c144e-3a22-43df-aa17-753796ff97a4",
   "metadata": {},
   "source": [
    "<aside>\n",
    "💡 **Question 8**\n",
    "\n",
    "Given two strings s and goal, return true *if you can swap two letters in* s *so the result is equal to* goal*, otherwise, return* false*.*\n",
    "\n",
    "Swapping letters is defined as taking two indices i and j (0-indexed) such that i != j and swapping the characters at s[i] and s[j].\n",
    "\n",
    "- For example, swapping at indices 0 and 2 in \"abcd\" results in \"cbad\".\n",
    "\n",
    "**Example 1:**\n",
    "\n",
    "**Input:** s = \"ab\", goal = \"ba\"\n",
    "\n",
    "**Output:** true\n",
    "\n",
    "**Explanation:** You can swap s[0] = 'a' and s[1] = 'b' to get \"ba\", which is equal to goal.\n",
    "\n",
    "</aside>"
   ]
  },
  {
   "cell_type": "code",
   "execution_count": 16,
   "id": "7d86f8b5-739d-46d7-aa36-2d23d13728ef",
   "metadata": {},
   "outputs": [],
   "source": [
    "###Ans_8.\n",
    "def buddy_strings(s, goal):\n",
    "    if len(s) != len(goal):\n",
    "        return False\n",
    "\n",
    "    diff_positions = []\n",
    "    diff_chars = []\n",
    "\n",
    "    for i in range(len(s)):\n",
    "        if s[i] != goal[i]:\n",
    "            diff_positions.append(i)\n",
    "            diff_chars.append(s[i])\n",
    "\n",
    "    if len(diff_positions) != 2:\n",
    "        return False\n",
    "\n",
    "    if s[diff_positions[0]] == goal[diff_positions[1]] and s[diff_positions[1]] == goal[diff_positions[0]]:\n",
    "        return True\n",
    "\n",
    "    return False"
   ]
  },
  {
   "cell_type": "code",
   "execution_count": 17,
   "id": "7a9f6381-c517-4924-859b-b27875412dfb",
   "metadata": {},
   "outputs": [
    {
     "data": {
      "text/plain": [
       "True"
      ]
     },
     "execution_count": 17,
     "metadata": {},
     "output_type": "execute_result"
    }
   ],
   "source": [
    "buddy_strings(\"ab\",\"ba\")"
   ]
  },
  {
   "cell_type": "code",
   "execution_count": null,
   "id": "34f1bd8a-13d8-4487-8479-d56e616420b9",
   "metadata": {},
   "outputs": [],
   "source": []
  }
 ],
 "metadata": {
  "kernelspec": {
   "display_name": "Python 3 (ipykernel)",
   "language": "python",
   "name": "python3"
  },
  "language_info": {
   "codemirror_mode": {
    "name": "ipython",
    "version": 3
   },
   "file_extension": ".py",
   "mimetype": "text/x-python",
   "name": "python",
   "nbconvert_exporter": "python",
   "pygments_lexer": "ipython3",
   "version": "3.10.8"
  }
 },
 "nbformat": 4,
 "nbformat_minor": 5
}
